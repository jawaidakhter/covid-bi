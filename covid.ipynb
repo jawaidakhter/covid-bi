{
 "cells": [
  {
   "attachments": {},
   "cell_type": "markdown",
   "metadata": {},
   "source": [
    "Steps to cover\n",
    "1. Read the dataset and drop col \"Patient ID\"\n",
    "2. As the dataset contains huge amount of null values; select only those columns which contains <= OR < 80% null values\n",
    "3. Combine the columns 'Influenza A' and 'Influenza B' by using the below condition. \n",
    "\n",
    "if both detected: 3\n",
    "if InfA detected: 2\n",
    "if InfB detected: 1\n",
    "if both not detected: 0\n",
    "else: -1\n",
    "\n",
    "Create a new column name as 'Influenza(AB)' and add the new values in it. Drop the previous two cols\n",
    "\n",
    "4.  Now use the column 'ParaInfluenza 1','ParaInfluenza 2', 'ParaInfluenza 3' 'ParaInfluenza 4'. and create the conditions as \n",
    "\n",
    "('detected', 'not_detected', 'not_detected', 'not_detected'), = 0\n",
    "    ('not_detected', 'detected', 'not_detected', 'not_detected'), = 1\n",
    "    ('not_detected', 'not_detected', 'detected', 'not_detected'), = 2\n",
    "    ('not_detected', 'not_detected', 'not_detected', 'detected') = 3\n",
    "\n",
    "Add the new values in a new column as 'ParaInfluenza(1,2,3,4)' and drop the previous ones..\n",
    "\n",
    "4. Repeat same step for cols 'CoronavirusNL63' , 'Coronavirus HKU1', 'Coronavirus229E' , 'CoronavirusOC43'\n",
    "\n",
    "5. Replace all null values with a unique value such as -1\n",
    "\n",
    "6. and save it in a new dataframe file either csv or xlsx"
   ]
  },
  {
   "cell_type": "code",
   "execution_count": 1,
   "metadata": {},
   "outputs": [],
   "source": [
    "# import covid-19 excel spreadsheet\n",
    "\n",
    "import pandas as pd\n",
    "\n",
    "df = pd.read_excel('dataset.xlsx')\n",
    "\n",
    "df = df.drop(columns='Patient ID')"
   ]
  },
  {
   "cell_type": "code",
   "execution_count": 2,
   "metadata": {},
   "outputs": [],
   "source": [
    "# combine influenza virus infection columns\n",
    "df['InfluenzaAB'] = df.apply(lambda r: -1 if r['Influenza A']=='' and r['Influenza B']==''\n",
    "                           else 1 if r['Influenza A']=='detected' and r['Influenza B']=='not_detected'\n",
    "                           else 2 if r['Influenza A']=='not_detected' and r['Influenza B']=='detected'\n",
    "                           else 3 if r['Influenza A']=='detected' and r['Influenza B']=='not_detected'\n",
    "                           else 0, axis=1)\n",
    "df.drop(columns='Influenza A',inplace=True)\n",
    "df.drop(columns='Influenza B',inplace=True)"
   ]
  },
  {
   "attachments": {},
   "cell_type": "markdown",
   "metadata": {},
   "source": [
    "### Combine Parainfluenza 1,2,3,4 Columns"
   ]
  },
  {
   "cell_type": "code",
   "execution_count": 3,
   "metadata": {},
   "outputs": [],
   "source": [
    "def ParainfluenzaId(one, two, three, four):\n",
    "    if one=='detected':\n",
    "        return 1\n",
    "    elif two=='detected':\n",
    "        return 2\n",
    "    elif three=='detected':\n",
    "        return 3\n",
    "    elif four=='detected':\n",
    "        return 4\n",
    "    elif one=='not_detected' and two=='not_detected' and three=='not_detected' and four=='not_detected':\n",
    "        return 0\n",
    "    else:\n",
    "        return -1"
   ]
  },
  {
   "cell_type": "code",
   "execution_count": 4,
   "metadata": {},
   "outputs": [],
   "source": [
    "## Function for Corona virus reductions\n",
    "def CoronaId(c_nl63, c_hku1, c_22e2, c_oc43):\n",
    "    if c_nl63=='detected':\n",
    "        return 1\n",
    "    elif c_hku1=='detected':\n",
    "        return 2\n",
    "    elif c_22e2=='detected':\n",
    "        return 3\n",
    "    elif c_oc43=='detected':\n",
    "        return 4\n",
    "    elif c_nl63=='not_detected' and c_hku1=='not_detected' and c_22e2=='not_detected' and c_oc43=='not_detected':\n",
    "        return 0\n",
    "    else:\n",
    "        return -1\n"
   ]
  },
  {
   "cell_type": "code",
   "execution_count": 5,
   "metadata": {},
   "outputs": [],
   "source": [
    "# loop data frame and combine Parainfluenza columns into one column and drop all Parainfluenza columns\n",
    "\n",
    "\n",
    "jj = len( df['Parainfluenza 1'])\n",
    "\n",
    "pp  = []\n",
    "for x in range(jj):\n",
    "    jj = ParainfluenzaId(df['Parainfluenza 1'][x],\n",
    "                                                 df['Parainfluenza 2'][x],\n",
    "                                                 df['Parainfluenza 3'][x],\n",
    "                                                 df['Parainfluenza 4'][x])\n",
    "    pp.append(jj)\n",
    "\n",
    "pp2 = pd.DataFrame(pp)\n",
    "# df['Parainfluenza1234'] = para1234\n",
    "# df.add(para1234)\n",
    "df['Parainfluenza1234'] = pp2\n",
    "df['Parainfluenza1234']\n",
    "df.drop(columns='Parainfluenza 1',inplace=True)\n",
    "df.drop(columns='Parainfluenza 2',inplace=True)\n",
    "df.drop(columns='Parainfluenza 3',inplace=True)\n",
    "df.drop(columns='Parainfluenza 4',inplace=True)\n"
   ]
  },
  {
   "attachments": {},
   "cell_type": "markdown",
   "metadata": {},
   "source": [
    "### Coronavirus Columns Reductions"
   ]
  },
  {
   "cell_type": "code",
   "execution_count": 6,
   "metadata": {},
   "outputs": [],
   "source": [
    "jj = len( df['Coronavirus229E'])\n",
    "jj\n",
    "cpp  = []\n",
    "for x in range(jj):\n",
    "    jj = CoronaId(df['CoronavirusNL63'][x],\n",
    "                                                 df['Coronavirus HKU1'][x],\n",
    "                                                 df['Coronavirus229E'][x],\n",
    "                                                 df['CoronavirusOC43'][x])\n",
    "    cpp.append(jj)\n",
    "\n",
    "cpp2 = pd.DataFrame(cpp)\n",
    "# df['Parainfluenza1234'] = para1234\n",
    "# df.add(para1234)\n",
    "df['Corona'] = cpp2\n",
    "df['Corona']\n",
    "df.drop(columns='CoronavirusNL63',inplace=True)\n",
    "df.drop(columns='Coronavirus HKU1',inplace=True)\n",
    "df.drop(columns='Coronavirus229E',inplace=True)\n",
    "df.drop(columns='CoronavirusOC43',inplace=True)\n"
   ]
  },
  {
   "cell_type": "code",
   "execution_count": null,
   "metadata": {},
   "outputs": [],
   "source": []
  },
  {
   "cell_type": "code",
   "execution_count": 7,
   "metadata": {},
   "outputs": [
    {
     "data": {
      "text/plain": [
       "Patient age quantile                                        0\n",
       "SARS-Cov-2 exam result                                      0\n",
       "Patient addmited to regular ward (1=yes, 0=no)              0\n",
       "Patient addmited to semi-intensive unit (1=yes, 0=no)       0\n",
       "Patient addmited to intensive care unit (1=yes, 0=no)       0\n",
       "                                                         ... \n",
       "Phosphor                                                 5624\n",
       "ctO2 (arterial blood gas analysis)                       5617\n",
       "InfluenzaAB                                                 0\n",
       "Parainfluenza1234                                           0\n",
       "Corona                                                      0\n",
       "Length: 103, dtype: int64"
      ]
     },
     "execution_count": 7,
     "metadata": {},
     "output_type": "execute_result"
    }
   ],
   "source": [
    "# Get null value count\n",
    "null_counts = df.isna().sum()\n",
    "null_counts"
   ]
  },
  {
   "cell_type": "code",
   "execution_count": 8,
   "metadata": {},
   "outputs": [
    {
     "data": {
      "text/plain": [
       "Patient age quantile                                     0.000000\n",
       "SARS-Cov-2 exam result                                   0.000000\n",
       "Patient addmited to regular ward (1=yes, 0=no)           0.000000\n",
       "Patient addmited to semi-intensive unit (1=yes, 0=no)    0.000000\n",
       "Patient addmited to intensive care unit (1=yes, 0=no)    0.000000\n",
       "                                                           ...   \n",
       "Phosphor                                                 0.996456\n",
       "ctO2 (arterial blood gas analysis)                       0.995216\n",
       "InfluenzaAB                                              0.000000\n",
       "Parainfluenza1234                                        0.000000\n",
       "Corona                                                   0.000000\n",
       "Length: 103, dtype: float64"
      ]
     },
     "execution_count": 8,
     "metadata": {},
     "output_type": "execute_result"
    }
   ],
   "source": [
    "# calcaulate percentages of null columns\n",
    "null_percents = null_counts / len(df)\n",
    "null_percents"
   ]
  },
  {
   "cell_type": "code",
   "execution_count": 9,
   "metadata": {},
   "outputs": [],
   "source": [
    "# drop all those column whose null values percentages are more than 80 percent\n",
    "columns_to_drop = null_percents[null_percents > 0.8].index\n",
    "df = df.drop(columns=columns_to_drop)\n"
   ]
  },
  {
   "attachments": {},
   "cell_type": "markdown",
   "metadata": {},
   "source": []
  },
  {
   "cell_type": "code",
   "execution_count": 10,
   "metadata": {},
   "outputs": [],
   "source": [
    "# combine columns of hospitalization\n",
    "df['Hospitalized'] = df.apply(lambda x: 0 if x['Patient addmited to regular ward (1=yes, 0=no)'] == 0 and\n",
    "                                                x['Patient addmited to semi-intensive unit (1=yes, 0=no)']==0 and\n",
    "                                                x['Patient addmited to intensive care unit (1=yes, 0=no)']==0\n",
    "                              else 1 if x['Patient addmited to regular ward (1=yes, 0=no)'] == 1 \n",
    "                              else 2 if x['Patient addmited to semi-intensive unit (1=yes, 0=no)']==1\n",
    "                              else 3 if x['Patient addmited to intensive care unit (1=yes, 0=no)']==1\n",
    "                              else -1, axis=1)\n",
    "df.drop(columns='Patient addmited to regular ward (1=yes, 0=no)', inplace=True)\n",
    "df.drop(columns='Patient addmited to semi-intensive unit (1=yes, 0=no)', inplace=True)\n",
    "df.drop(columns='Patient addmited to intensive care unit (1=yes, 0=no)',inplace=True)\n",
    "\n"
   ]
  },
  {
   "cell_type": "code",
   "execution_count": 11,
   "metadata": {},
   "outputs": [
    {
     "data": {
      "text/plain": [
       "Hospitalized\n",
       "0    5474\n",
       "1      79\n",
       "2      50\n",
       "3      41\n",
       "Name: count, dtype: int64"
      ]
     },
     "execution_count": 11,
     "metadata": {},
     "output_type": "execute_result"
    }
   ],
   "source": [
    "# count hospitalization by type\n",
    "df['Hospitalized'].value_counts()"
   ]
  },
  {
   "cell_type": "code",
   "execution_count": 12,
   "metadata": {},
   "outputs": [
    {
     "data": {
      "text/plain": [
       "InfluenzaAB\n",
       "0    5549\n",
       "2      77\n",
       "1      18\n",
       "Name: count, dtype: int64"
      ]
     },
     "execution_count": 12,
     "metadata": {},
     "output_type": "execute_result"
    }
   ],
   "source": [
    "df['InfluenzaAB'].value_counts()"
   ]
  },
  {
   "cell_type": "code",
   "execution_count": 13,
   "metadata": {},
   "outputs": [],
   "source": [
    "# Save Sheet to processed.xlsx file\n",
    "df.to_excel('processed.xlsx')"
   ]
  },
  {
   "attachments": {},
   "cell_type": "markdown",
   "metadata": {},
   "source": [
    "# Graph on Covid Data"
   ]
  },
  {
   "cell_type": "code",
   "execution_count": null,
   "metadata": {},
   "outputs": [],
   "source": [
    "import matplotlib as plt\n",
    "import seaborn as sbn\n",
    "\n"
   ]
  }
 ],
 "metadata": {
  "kernelspec": {
   "display_name": "Python 3",
   "language": "python",
   "name": "python3"
  },
  "language_info": {
   "codemirror_mode": {
    "name": "ipython",
    "version": 3
   },
   "file_extension": ".py",
   "mimetype": "text/x-python",
   "name": "python",
   "nbconvert_exporter": "python",
   "pygments_lexer": "ipython3",
   "version": "3.11.3"
  },
  "orig_nbformat": 4
 },
 "nbformat": 4,
 "nbformat_minor": 2
}
