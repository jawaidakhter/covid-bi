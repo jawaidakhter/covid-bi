{
 "cells": [
  {
   "attachments": {},
   "cell_type": "markdown",
   "metadata": {},
   "source": [
    "task is to use this  dataset and apply all previously learnt teachniques on this dataet.\n",
    "goal is to create 4 dataframes.\n",
    "1. relevant features with Sar-Covid detected\n",
    "2. relevant features with general ward colm\n",
    "3. relevant features with semi-intensive colm\n",
    "4. relevant features with intensive care unit colm"
   ]
  },
  {
   "cell_type": "code",
   "execution_count": 1,
   "metadata": {},
   "outputs": [],
   "source": [
    "# import covid-19 excel spreadsheet\n",
    "\n",
    "import pandas as pd\n",
    "\n",
    "df = pd.read_excel('dataset.xlsx')"
   ]
  },
  {
   "cell_type": "code",
   "execution_count": 2,
   "metadata": {},
   "outputs": [
    {
     "data": {
      "text/plain": [
       "Patient ID                                                  0\n",
       "Patient age quantile                                        0\n",
       "SARS-Cov-2 exam result                                      0\n",
       "Patient addmited to regular ward (1=yes, 0=no)              0\n",
       "Patient addmited to semi-intensive unit (1=yes, 0=no)       0\n",
       "                                                         ... \n",
       "HCO3 (arterial blood gas analysis)                       5617\n",
       "pO2 (arterial blood gas analysis)                        5617\n",
       "Arteiral Fio2                                            5624\n",
       "Phosphor                                                 5624\n",
       "ctO2 (arterial blood gas analysis)                       5617\n",
       "Length: 111, dtype: int64"
      ]
     },
     "execution_count": 2,
     "metadata": {},
     "output_type": "execute_result"
    }
   ],
   "source": [
    "null_counts = df.isna().sum()\n",
    "null_counts"
   ]
  },
  {
   "cell_type": "code",
   "execution_count": 3,
   "metadata": {},
   "outputs": [
    {
     "data": {
      "text/plain": [
       "Patient ID                                               0.000000\n",
       "Patient age quantile                                     0.000000\n",
       "SARS-Cov-2 exam result                                   0.000000\n",
       "Patient addmited to regular ward (1=yes, 0=no)           0.000000\n",
       "Patient addmited to semi-intensive unit (1=yes, 0=no)    0.000000\n",
       "                                                           ...   \n",
       "HCO3 (arterial blood gas analysis)                       0.995216\n",
       "pO2 (arterial blood gas analysis)                        0.995216\n",
       "Arteiral Fio2                                            0.996456\n",
       "Phosphor                                                 0.996456\n",
       "ctO2 (arterial blood gas analysis)                       0.995216\n",
       "Length: 111, dtype: float64"
      ]
     },
     "execution_count": 3,
     "metadata": {},
     "output_type": "execute_result"
    }
   ],
   "source": [
    "null_percents = null_counts / len(df)\n",
    "null_percents"
   ]
  },
  {
   "cell_type": "code",
   "execution_count": 4,
   "metadata": {},
   "outputs": [],
   "source": [
    "columns_to_drop = null_percents[null_percents > 0.8].index\n",
    "df = df.drop(columns=columns_to_drop)\n"
   ]
  },
  {
   "attachments": {},
   "cell_type": "markdown",
   "metadata": {},
   "source": []
  },
  {
   "cell_type": "code",
   "execution_count": 15,
   "metadata": {},
   "outputs": [],
   "source": [
    "df['Hospitalized'] = df.apply(lambda x: 'No' if x['Patient addmited to regular ward (1=yes, 0=no)'] == 0 and\n",
    "                                                x['Patient addmited to semi-intensive unit (1=yes, 0=no)']==0 and\n",
    "                                                x['Patient addmited to intensive care unit (1=yes, 0=no)']==0\n",
    "                              else 'Regular' if x['Patient addmited to regular ward (1=yes, 0=no)'] == 1 \n",
    "                              else 'Semi-Intensive' if x['Patient addmited to semi-intensive unit (1=yes, 0=no)']==1\n",
    "                              else 'Intensive' if x['Patient addmited to intensive care unit (1=yes, 0=no)']==1\n",
    "                              else 'Missing', axis=1)\n"
   ]
  },
  {
   "cell_type": "code",
   "execution_count": 14,
   "metadata": {},
   "outputs": [
    {
     "data": {
      "text/plain": [
       "Hospitalized\n",
       "No                5474\n",
       "Regular             79\n",
       "Semi-Intensive      50\n",
       "Intensive           41\n",
       "Name: count, dtype: int64"
      ]
     },
     "execution_count": 14,
     "metadata": {},
     "output_type": "execute_result"
    }
   ],
   "source": [
    "df['Hospitalized'].value_counts()"
   ]
  },
  {
   "cell_type": "code",
   "execution_count": 17,
   "metadata": {},
   "outputs": [],
   "source": [
    "# influenza virus\n",
    "df['Influenza'] = df.apply(lambda r: 'No-Test Results' if r['Influenza A']=='' and r['Influenza B']==''\n",
    "                           else 'A Only' if r['Influenza A']=='detected' and r['Influenza B']=='not_detected'\n",
    "                           else 'B Only' if r['Influenza A']=='not_detected' and r['Influenza B']=='detected'\n",
    "                           else 'Both' if r['Influenza A']=='detected' and r['Influenza B']=='not_detected'\n",
    "                           else 'Missing', axis=1)"
   ]
  },
  {
   "cell_type": "code",
   "execution_count": 18,
   "metadata": {},
   "outputs": [
    {
     "data": {
      "text/plain": [
       "Influenza\n",
       "Missing    5549\n",
       "B Only       77\n",
       "A Only       18\n",
       "Name: count, dtype: int64"
      ]
     },
     "execution_count": 18,
     "metadata": {},
     "output_type": "execute_result"
    }
   ],
   "source": [
    "df['Influenza'].value_counts()"
   ]
  }
 ],
 "metadata": {
  "kernelspec": {
   "display_name": "Python 3",
   "language": "python",
   "name": "python3"
  },
  "language_info": {
   "codemirror_mode": {
    "name": "ipython",
    "version": 3
   },
   "file_extension": ".py",
   "mimetype": "text/x-python",
   "name": "python",
   "nbconvert_exporter": "python",
   "pygments_lexer": "ipython3",
   "version": "3.11.3"
  },
  "orig_nbformat": 4
 },
 "nbformat": 4,
 "nbformat_minor": 2
}
